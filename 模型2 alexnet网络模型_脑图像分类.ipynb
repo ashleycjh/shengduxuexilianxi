{
 "cells": [
  {
   "metadata": {},
   "cell_type": "markdown",
   "source": "## 定义模型2 alexnet",
   "id": "471a8ea6e85b2c0"
  },
  {
   "metadata": {
    "ExecuteTime": {
     "end_time": "2024-07-29T08:31:44.114405Z",
     "start_time": "2024-07-29T08:31:42.566441Z"
    }
   },
   "cell_type": "code",
   "source": [
    "import torch\n",
    "import torch.nn as nn\n",
    "import torch.optim as optim\n",
    "from torchvision import datasets, transforms\n",
    "from torch.utils.data import DataLoader\n",
    "import matplotlib.pyplot as plt\n",
    "import torch.nn.functional as F\n",
    "from torch.utils.data import DataLoader, TensorDataset\n",
    "import pandas as pd\n",
    "\n",
    "%matplotlib qt"
   ],
   "id": "486b27a827efe66",
   "outputs": [],
   "execution_count": 1
  },
  {
   "metadata": {
    "ExecuteTime": {
     "end_time": "2024-07-29T08:31:44.117547Z",
     "start_time": "2024-07-29T08:31:44.114405Z"
    }
   },
   "cell_type": "code",
   "source": [
    "model_accuracies = {\n",
    "    'alexnet': []\n",
    "}\n",
    "# 定义批量大小\n",
    "batch_size = 100\n",
    "# 数据增强和预处理\n",
    "transform2 = transforms.Compose([\n",
    "    transforms.Resize((227, 227)),  ##图像大小转化，转化为各深度学习分类器要求的图像大小\n",
    "    transforms.ToTensor(),  ## 将图像转换为PyTorch的张量格式，并将像素值从0-255缩放到0-1之间\n",
    "    transforms.Normalize([0.485, 0.456, 0.406], [0.229, 0.224, 0.225])  ## 标准化图像，使每个通道的像素值分布在[-1, 1]之间。这里，均值和标准差均为0.485, 0.456, 0.406。\n",
    "])"
   ],
   "id": "9c0cd6873b2ae31e",
   "outputs": [],
   "execution_count": 2
  },
  {
   "metadata": {
    "ExecuteTime": {
     "end_time": "2024-07-29T08:31:44.136631Z",
     "start_time": "2024-07-29T08:31:44.118543Z"
    }
   },
   "cell_type": "code",
   "source": [
    "# 加载数据集\n",
    "data_dir = r'D:\\深度学习练习\\Brain tumor classification-20240725-1.0(1)'\n",
    "train_dataset = datasets.ImageFolder(root=data_dir, transform=transform2)\n",
    "train_size = int(0.8 * len(train_dataset))\n",
    "val_size = len(train_dataset) - train_size\n",
    "train_dataset, val_dataset = torch.utils.data.random_split(train_dataset, [train_size, val_size])\n",
    "\n",
    "train_loader = DataLoader(train_dataset, batch_size=batch_size, shuffle=True)\n",
    "val_loader = DataLoader(val_dataset, batch_size=batch_size, shuffle=False)"
   ],
   "id": "52f3bfcf18f4f62c",
   "outputs": [],
   "execution_count": 3
  },
  {
   "metadata": {
    "ExecuteTime": {
     "end_time": "2024-07-29T08:31:44.296686Z",
     "start_time": "2024-07-29T08:31:44.136631Z"
    }
   },
   "cell_type": "code",
   "source": [
    "class AlexNet(nn.Module):\n",
    "    def __init__(self, num_classes=4):\n",
    "        super(AlexNet, self).__init__()\n",
    "        self.features = nn.Sequential(\n",
    "            nn.Conv2d(3, 96, kernel_size=11, stride=4, padding=2),\n",
    "            nn.ReLU(inplace=True),\n",
    "            nn.MaxPool2d(kernel_size=3, stride=2),\n",
    "            nn.Conv2d(96, 256, kernel_size=5, padding=2),\n",
    "            nn.ReLU(inplace=True),\n",
    "            nn.MaxPool2d(kernel_size=3, stride=2),\n",
    "            nn.Conv2d(256, 384, kernel_size=3, padding=1),\n",
    "            nn.ReLU(inplace=True),\n",
    "            nn.Conv2d(384, 384, kernel_size=3, padding=1),\n",
    "            nn.ReLU(inplace=True),\n",
    "            nn.Conv2d(384, 256, kernel_size=3, padding=1),\n",
    "            nn.ReLU(inplace=True),\n",
    "            nn.MaxPool2d(kernel_size=3, stride=2),\n",
    "        )\n",
    "        self.classifier = nn.Sequential(\n",
    "            nn.Dropout(),\n",
    "            nn.Linear(256 * 6 * 6, 4096),\n",
    "            nn.ReLU(inplace=True),\n",
    "            nn.Dropout(),\n",
    "            nn.Linear(4096, 4096),\n",
    "            nn.ReLU(inplace=True),\n",
    "            nn.Linear(4096, num_classes),\n",
    "        )\n",
    "\n",
    "    def forward(self, x):\n",
    "        x = self.features(x)\n",
    "        x = x.view(x.size(0), 256 * 6 * 6)\n",
    "        x = self.classifier(x)\n",
    "        return x\n",
    "# 实例化模型\n",
    "model = AlexNet(num_classes=4)\n",
    "epochs = 40\n",
    "learning_rate = 0.0001"
   ],
   "id": "b6ba8efe6c1dacb9",
   "outputs": [],
   "execution_count": 4
  },
  {
   "metadata": {
    "ExecuteTime": {
     "end_time": "2024-07-29T08:40:06.268218Z",
     "start_time": "2024-07-29T08:31:44.296686Z"
    }
   },
   "cell_type": "code",
   "source": [
    "from bokeh.models.widgets import inputs\n",
    "\n",
    "# 假设 device 已经定义\n",
    "device = torch.device('cuda' if torch.cuda.is_available() else 'cpu')\n",
    "\n",
    "# 初始化模型、损失函数和优化器\n",
    "model = AlexNet(num_classes=4).to(device)  # 确保模型在 GPU 上\n",
    "criterion = nn.CrossEntropyLoss()\n",
    "optimizer = optim.Adam(model.parameters(), lr=learning_rate)\n",
    "\n",
    "# 训练模型\n",
    "\n",
    "train_losses = []\n",
    "for epoch in range(epochs):\n",
    "    model.train()\n",
    "    running_loss = 0.0\n",
    "    for images, labels in train_loader:\n",
    "        images, labels = images.to(device), labels.to(device)  # 将数据移动到 GPU\n",
    "        optimizer.zero_grad()  # 清除梯度\n",
    "        outputs = model(images)  # 前向传播\n",
    "        loss = criterion(outputs, labels)  # 计算损失\n",
    "        loss.backward()  # 反向传播\n",
    "        optimizer.step()  # 更新参数\n",
    "        running_loss += loss.item()\n",
    "    \n",
    "    epoch_loss = running_loss / len(train_loader)\n",
    "    train_losses.append(epoch_loss)\n",
    "    print(f\"Epoch [{epoch+1}/{epochs}], Loss: {epoch_loss:.4f}\")\n",
    "\n",
    "    # 验证模型\n",
    "    model.eval()\n",
    "    correct = 0\n",
    "    total = 0\n",
    "    with torch.no_grad():\n",
    "        for images, labels in val_loader:\n",
    "            images, labels = images.to(device), labels.to(device)  # 将数据移动到 GPU\n",
    "            outputs = model(images)  # 前向传播\n",
    "            _, predicted = torch.max(outputs.data, 1)  # 获取预测类别\n",
    "            total += labels.size(0)\n",
    "            correct += (predicted == labels).sum().item()\n",
    "    \n",
    "    accuracy = 100 * correct / total\n",
    "    model_accuracies['alexnet'].append(accuracy)\n",
    "    print(f\"Accuracy of the model on the validation images: {accuracy:.2f}%\")"
   ],
   "id": "dac5f3ac7852310f",
   "outputs": [
    {
     "name": "stdout",
     "output_type": "stream",
     "text": [
      "Epoch [1/40], Loss: 1.0597\n",
      "Accuracy of the model on the validation images: 58.40%\n",
      "Epoch [2/40], Loss: 0.6869\n",
      "Accuracy of the model on the validation images: 79.06%\n",
      "Epoch [3/40], Loss: 0.4932\n",
      "Accuracy of the model on the validation images: 84.05%\n",
      "Epoch [4/40], Loss: 0.3910\n",
      "Accuracy of the model on the validation images: 82.76%\n",
      "Epoch [5/40], Loss: 0.3346\n",
      "Accuracy of the model on the validation images: 86.75%\n",
      "Epoch [6/40], Loss: 0.2701\n",
      "Accuracy of the model on the validation images: 87.89%\n",
      "Epoch [7/40], Loss: 0.2163\n",
      "Accuracy of the model on the validation images: 90.53%\n",
      "Epoch [8/40], Loss: 0.1684\n",
      "Accuracy of the model on the validation images: 84.62%\n",
      "Epoch [9/40], Loss: 0.1397\n",
      "Accuracy of the model on the validation images: 94.44%\n",
      "Epoch [10/40], Loss: 0.1037\n",
      "Accuracy of the model on the validation images: 94.23%\n",
      "Epoch [11/40], Loss: 0.0958\n",
      "Accuracy of the model on the validation images: 92.95%\n",
      "Epoch [12/40], Loss: 0.0695\n",
      "Accuracy of the model on the validation images: 90.24%\n",
      "Epoch [13/40], Loss: 0.0748\n",
      "Accuracy of the model on the validation images: 95.44%\n",
      "Epoch [14/40], Loss: 0.0374\n",
      "Accuracy of the model on the validation images: 96.23%\n",
      "Epoch [15/40], Loss: 0.0271\n",
      "Accuracy of the model on the validation images: 94.52%\n",
      "Epoch [16/40], Loss: 0.0380\n",
      "Accuracy of the model on the validation images: 96.44%\n",
      "Epoch [17/40], Loss: 0.0276\n",
      "Accuracy of the model on the validation images: 95.09%\n",
      "Epoch [18/40], Loss: 0.0586\n",
      "Accuracy of the model on the validation images: 95.37%\n",
      "Epoch [19/40], Loss: 0.0226\n",
      "Accuracy of the model on the validation images: 94.59%\n",
      "Epoch [20/40], Loss: 0.0175\n",
      "Accuracy of the model on the validation images: 95.30%\n",
      "Epoch [21/40], Loss: 0.0244\n",
      "Accuracy of the model on the validation images: 94.23%\n",
      "Epoch [22/40], Loss: 0.0239\n",
      "Accuracy of the model on the validation images: 96.23%\n",
      "Epoch [23/40], Loss: 0.0106\n",
      "Accuracy of the model on the validation images: 96.58%\n",
      "Epoch [24/40], Loss: 0.0241\n",
      "Accuracy of the model on the validation images: 96.51%\n",
      "Epoch [25/40], Loss: 0.0169\n",
      "Accuracy of the model on the validation images: 95.51%\n",
      "Epoch [26/40], Loss: 0.0145\n",
      "Accuracy of the model on the validation images: 96.44%\n",
      "Epoch [27/40], Loss: 0.0263\n",
      "Accuracy of the model on the validation images: 96.08%\n",
      "Epoch [28/40], Loss: 0.0097\n",
      "Accuracy of the model on the validation images: 96.87%\n",
      "Epoch [29/40], Loss: 0.0148\n",
      "Accuracy of the model on the validation images: 96.72%\n",
      "Epoch [30/40], Loss: 0.0080\n",
      "Accuracy of the model on the validation images: 95.44%\n",
      "Epoch [31/40], Loss: 0.0086\n",
      "Accuracy of the model on the validation images: 96.37%\n",
      "Epoch [32/40], Loss: 0.0181\n",
      "Accuracy of the model on the validation images: 93.87%\n",
      "Epoch [33/40], Loss: 0.0486\n",
      "Accuracy of the model on the validation images: 95.58%\n",
      "Epoch [34/40], Loss: 0.0242\n",
      "Accuracy of the model on the validation images: 96.51%\n",
      "Epoch [35/40], Loss: 0.0090\n",
      "Accuracy of the model on the validation images: 96.37%\n",
      "Epoch [36/40], Loss: 0.0096\n",
      "Accuracy of the model on the validation images: 96.44%\n",
      "Epoch [37/40], Loss: 0.0083\n",
      "Accuracy of the model on the validation images: 95.80%\n",
      "Epoch [38/40], Loss: 0.0149\n",
      "Accuracy of the model on the validation images: 96.44%\n",
      "Epoch [39/40], Loss: 0.0117\n",
      "Accuracy of the model on the validation images: 96.79%\n",
      "Epoch [40/40], Loss: 0.0064\n",
      "Accuracy of the model on the validation images: 97.08%\n"
     ]
    }
   ],
   "execution_count": 5
  },
  {
   "metadata": {
    "ExecuteTime": {
     "end_time": "2024-07-29T08:40:06.761948Z",
     "start_time": "2024-07-29T08:40:06.269218Z"
    }
   },
   "cell_type": "code",
   "source": [
    "\n",
    "# 保存模型权重\n",
    "torch.save(model.state_dict(), 'alexnet_brain_weights.pth')\n",
    "# 保存模型结构和权重\n",
    "torch.save(model, 'alexne_brain_model.pth')\n",
    "accuracies_list = model_accuracies['alexnet']\n",
    "\n",
    "# 创建一个包含epoch编号和对应准确率的字典\n",
    "data = {'Epoch': list(range(1, len(accuracies_list) + 1)),\n",
    "        'Accuracy': accuracies_list}\n",
    "\n",
    "# 将字典转换为DataFrame\n",
    "df = pd.DataFrame(data)\n",
    "\n",
    "# 现在你可以将DataFrame保存为Excel文件\n",
    "df.to_excel('alexnet_brain_accuracies.xlsx', index=False)\n",
    "# 清理内存\n",
    "del model\n",
    "del inputs\n",
    "del labels\n",
    "torch.cuda.empty_cache()"
   ],
   "id": "497c9571d2dd7490",
   "outputs": [],
   "execution_count": 6
  },
  {
   "metadata": {
    "ExecuteTime": {
     "end_time": "2024-07-29T08:44:17.645754Z",
     "start_time": "2024-07-29T08:44:17.238258Z"
    }
   },
   "cell_type": "code",
   "source": [
    "device = torch.device(\"cuda\" if torch.cuda.is_available() else \"cpu\")\n",
    "print(f\"Using device: {device}\")\n",
    "# 实例化模型\n",
    "model = AlexNet(num_classes=4).to(device)\n",
    "\n",
    "# 加载模型权重\n",
    "model.load_state_dict(torch.load('alexnet_brain_weights.pth'))\n",
    "\n",
    "# 设置为评估模式\n",
    "model.eval()"
   ],
   "id": "feb196d350936038",
   "outputs": [
    {
     "name": "stdout",
     "output_type": "stream",
     "text": [
      "Using device: cuda\n"
     ]
    },
    {
     "data": {
      "text/plain": [
       "AlexNet(\n",
       "  (features): Sequential(\n",
       "    (0): Conv2d(3, 96, kernel_size=(11, 11), stride=(4, 4), padding=(2, 2))\n",
       "    (1): ReLU(inplace=True)\n",
       "    (2): MaxPool2d(kernel_size=3, stride=2, padding=0, dilation=1, ceil_mode=False)\n",
       "    (3): Conv2d(96, 256, kernel_size=(5, 5), stride=(1, 1), padding=(2, 2))\n",
       "    (4): ReLU(inplace=True)\n",
       "    (5): MaxPool2d(kernel_size=3, stride=2, padding=0, dilation=1, ceil_mode=False)\n",
       "    (6): Conv2d(256, 384, kernel_size=(3, 3), stride=(1, 1), padding=(1, 1))\n",
       "    (7): ReLU(inplace=True)\n",
       "    (8): Conv2d(384, 384, kernel_size=(3, 3), stride=(1, 1), padding=(1, 1))\n",
       "    (9): ReLU(inplace=True)\n",
       "    (10): Conv2d(384, 256, kernel_size=(3, 3), stride=(1, 1), padding=(1, 1))\n",
       "    (11): ReLU(inplace=True)\n",
       "    (12): MaxPool2d(kernel_size=3, stride=2, padding=0, dilation=1, ceil_mode=False)\n",
       "  )\n",
       "  (classifier): Sequential(\n",
       "    (0): Dropout(p=0.5, inplace=False)\n",
       "    (1): Linear(in_features=9216, out_features=4096, bias=True)\n",
       "    (2): ReLU(inplace=True)\n",
       "    (3): Dropout(p=0.5, inplace=False)\n",
       "    (4): Linear(in_features=4096, out_features=4096, bias=True)\n",
       "    (5): ReLU(inplace=True)\n",
       "    (6): Linear(in_features=4096, out_features=4, bias=True)\n",
       "  )\n",
       ")"
      ]
     },
     "execution_count": 8,
     "metadata": {},
     "output_type": "execute_result"
    }
   ],
   "execution_count": 8
  },
  {
   "metadata": {
    "ExecuteTime": {
     "end_time": "2024-07-29T08:44:23.193003Z",
     "start_time": "2024-07-29T08:44:20.605041Z"
    }
   },
   "cell_type": "code",
   "source": [
    "import torch\n",
    "import csv\n",
    "from sklearn.metrics import accuracy_score, precision_score, recall_score, f1_score\n",
    "from tqdm import tqdm\n",
    "\n",
    "# 确保模型处于评估模式\n",
    "model.eval()\n",
    "\n",
    "# 初始化用于存储预测和真实标签的列表\n",
    "all_preds = []\n",
    "all_labels = []\n",
    "\n",
    "# 不计算梯度进行预测\n",
    "with torch.no_grad():\n",
    "    for inputs, labels in tqdm(val_loader, desc=\"Evaluating\"):\n",
    "        # 将数据移动到GPU，如果可用\n",
    "        inputs, labels = inputs.to(device), labels.to(device)\n",
    "\n",
    "        # 前向传播\n",
    "        outputs = model(inputs)\n",
    "\n",
    "        # 获取预测概率最高的类别\n",
    "        _, predicted = torch.max(outputs.data, 1)\n",
    "\n",
    "        # 将预测结果和真实标签添加到列表中\n",
    "        all_preds.extend(predicted.cpu().numpy())\n",
    "        all_labels.extend(labels.cpu().numpy())\n",
    "\n",
    "# 计算准确率、精确率、召回率和F1分数\n",
    "accuracy = accuracy_score(all_labels, all_preds)\n",
    "precision = precision_score(all_labels, all_preds, average='weighted', zero_division=1)\n",
    "recall = recall_score(all_labels, all_preds, average='weighted', zero_division=1)\n",
    "f1 = f1_score(all_labels, all_preds, average='weighted', zero_division=1)\n",
    "\n",
    "# 将结果保存到CSV文件\n",
    "results = {\n",
    "    'Accuracy': accuracy,\n",
    "    'Precision': precision,\n",
    "    'Recall': recall,\n",
    "    'F1 Score': f1\n",
    "}\n",
    "\n",
    "# 写入CSV文件\n",
    "with open('AlexNet_brain评估.csv', mode='w', newline='') as file:\n",
    "    writer = csv.writer(file)\n",
    "    writer.writerow(['Metric', 'Value'])\n",
    "    for metric, value in results.items():\n",
    "        writer.writerow([metric, value])\n",
    "\n",
    "print(\"Results have been saved to AlexNet_brain评估.csv\")"
   ],
   "id": "bd19ac141920ae76",
   "outputs": [
    {
     "name": "stderr",
     "output_type": "stream",
     "text": [
      "Evaluating: 100%|██████████| 15/15 [00:02<00:00,  5.96it/s]"
     ]
    },
    {
     "name": "stdout",
     "output_type": "stream",
     "text": [
      "Results have been saved to AlexNet_brain评估.csv\n"
     ]
    },
    {
     "name": "stderr",
     "output_type": "stream",
     "text": [
      "\n"
     ]
    }
   ],
   "execution_count": 9
  },
  {
   "metadata": {},
   "cell_type": "code",
   "source": "",
   "id": "41dcc940877e6ca8",
   "outputs": [],
   "execution_count": null
  }
 ],
 "metadata": {
  "kernelspec": {
   "display_name": "Python 3",
   "language": "python",
   "name": "python3"
  },
  "language_info": {
   "codemirror_mode": {
    "name": "ipython",
    "version": 2
   },
   "file_extension": ".py",
   "mimetype": "text/x-python",
   "name": "python",
   "nbconvert_exporter": "python",
   "pygments_lexer": "ipython2",
   "version": "2.7.6"
  }
 },
 "nbformat": 4,
 "nbformat_minor": 5
}
