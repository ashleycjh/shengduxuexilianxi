{
 "cells": [
  {
   "cell_type": "code",
   "execution_count": null,
   "id": "initial_id",
   "metadata": {
    "collapsed": true
   },
   "outputs": [],
   "source": [
    ""
   ]
  },
  {
   "metadata": {
    "ExecuteTime": {
     "end_time": "2024-07-24T09:02:49.277568Z",
     "start_time": "2024-07-24T09:02:49.161559Z"
    }
   },
   "cell_type": "code",
   "source": [
    "import pandas as pd\n",
    "import seaborn as sns\n",
    "import matplotlib.pyplot as plt\n",
    "\n",
    "dizi = r'D:\\深度学习练习\\flower_photos\\flower_photos\\5个模型分类准确率.xlsx'\n",
    "df = pd.read_excel (dizi)\n",
    "print(df.head())"
   ],
   "id": "c871087107b84336",
   "outputs": [
    {
     "name": "stdout",
     "output_type": "stream",
     "text": [
      "   Epoch    lennet5    alexnet  googlenet     resnet   densenet\n",
      "0      1  28.065395  42.779292  44.686649  57.629428  61.307902\n",
      "1      2  25.340599  47.683924  48.501362  64.305177  62.670300\n",
      "2      3  35.149864  47.820163  53.542234  67.166213  65.667575\n",
      "3      4  41.280654  53.133515  48.228883  65.940054  62.534060\n",
      "4      5  46.457766  55.449591  61.035422  63.623978  67.302452\n"
     ]
    }
   ],
   "execution_count": 1
  },
  {
   "metadata": {
    "ExecuteTime": {
     "end_time": "2024-07-24T09:09:19.477853Z",
     "start_time": "2024-07-24T09:09:19.031913Z"
    }
   },
   "cell_type": "code",
   "source": [
    "import pandas as pd\n",
    "import seaborn as sns\n",
    "import matplotlib.pyplot as plt\n",
    "%matplotlib qt\n",
    "# 将宽表格转换成长表格格式，方便绘图\n",
    "df_melted = pd.melt(df, id_vars=['Epoch'], var_name='Model', value_name='Accuracy')\n",
    "\n",
    "# 设置图形大小\n",
    "plt.figure(figsize=(10, 8))\n",
    "\n",
    "# 创建箱线图\n",
    "sns.boxplot(x='Model', y='Accuracy', hue='Epoch', data=df_melted)\n",
    "\n",
    "# 自定义图标题和轴标签\n",
    "plt.title('Comparison of Model Performance over Epochs')\n",
    "plt.xlabel('Model')\n",
    "plt.ylabel('Accuracy')\n",
    "\n",
    "# 显示图例\n",
    "plt.legend(title='Epoch')\n",
    "\n",
    "# 显示图形\n",
    "plt.show()"
   ],
   "id": "3b4f5d5d015c5abe",
   "outputs": [],
   "execution_count": 4
  },
  {
   "metadata": {
    "ExecuteTime": {
     "end_time": "2024-07-24T09:12:00.146800Z",
     "start_time": "2024-07-24T09:12:00.106279Z"
    }
   },
   "cell_type": "code",
   "source": [
    "import pandas as pd\n",
    "import matplotlib.pyplot as plt\n",
    "\n",
    "# 假设你的数据已经在一个名为df的pandas DataFrame中\n",
    "# df应该有列：'lennet5', 'alexnet', 'googlenet', 'resnet', 'densenet'\n",
    "\n",
    "# 首先，你需要将数据重塑成适合箱线图的形式\n",
    "# 我们将数据转换为长格式\n",
    "df_melted = pd.melt(df, id_vars=['Epoch'], var_name='Model', value_name='Accuracy')\n",
    "\n",
    "# 现在，你可以使用boxplot函数来绘制箱线图\n",
    "plt.figure(figsize=(10, 8))\n",
    "boxplot = plt.boxplot([df[col].dropna().values for col in df.columns[1:]], labels=df.columns[1:], showmeans=True)\n",
    "plt.title('Comparison of Model Performance Over Epochs')\n",
    "plt.ylabel('Accuracy')\n",
    "plt.xlabel('Models')\n",
    "plt.grid(True)\n",
    "plt.show()"
   ],
   "id": "d4c6a7ff6d2a2305",
   "outputs": [],
   "execution_count": 5
  },
  {
   "metadata": {},
   "cell_type": "code",
   "outputs": [],
   "execution_count": null,
   "source": "",
   "id": "8755384e3a0c528e"
  }
 ],
 "metadata": {
  "kernelspec": {
   "display_name": "Python 3",
   "language": "python",
   "name": "python3"
  },
  "language_info": {
   "codemirror_mode": {
    "name": "ipython",
    "version": 2
   },
   "file_extension": ".py",
   "mimetype": "text/x-python",
   "name": "python",
   "nbconvert_exporter": "python",
   "pygments_lexer": "ipython2",
   "version": "2.7.6"
  }
 },
 "nbformat": 4,
 "nbformat_minor": 5
}
